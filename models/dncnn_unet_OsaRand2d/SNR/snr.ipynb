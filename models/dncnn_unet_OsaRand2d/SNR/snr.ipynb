{
 "cells": [
  {
   "cell_type": "code",
   "execution_count": 1,
   "metadata": {},
   "outputs": [],
   "source": [
    "import scipy.io as spio\n",
    "import numpy as np\n",
    "import sys, os\n",
    "\n",
    "import matplotlib.pyplot as plt\n",
    "import math"
   ]
  },
  {
   "cell_type": "code",
   "execution_count": 2,
   "metadata": {},
   "outputs": [],
   "source": [
    "def convert_data2org(cur_mat, maxV = 25.0):\n",
    "    import numpy as np\n",
    "    cur_mat = cur_mat * maxV;\n",
    "    x = np.exp(cur_mat) - 1.0;\n",
    "\n",
    "    #print \"\\nmin \\t max\"\n",
    "    #print np.amin(x), np.amax(x)\n",
    "\n",
    "    neg_idx = x < 0.0\n",
    "    x[neg_idx] = 0.0\n",
    "\n",
    "    #print \"\\nmin \\t max\"\n",
    "    #print np.amin(x), np.amax(x)\n",
    "    \n",
    "    return x\n",
    "\n",
    "def plot_results(noisy, nn_output, clean, title=None):\n",
    "    import numpy as np\n",
    "    plt.figure(1, figsize=(20,20))\n",
    "    #if title: plt.suptitle(title, fontsize=16)\n",
    "\n",
    "    ax = plt.subplot(1, 3, 1)\n",
    "    ax.set_title(\"noisy\")\n",
    "    # ax.imshow(np.log10(noisy), clim=(-3,7), interpolation='none')\n",
    "    ax.imshow(np.log10(noisy), interpolation='none')\n",
    "        \n",
    "    ax = plt.subplot(1, 3, 2)\n",
    "    ax.set_title(\"Neural Nets\")\n",
    "    # ax.imshow(np.log10(nn_output), clim=(-3,7), interpolation='none')\n",
    "    ax.imshow(np.log10(nn_output), interpolation='none')\n",
    "    \n",
    "    ax = plt.subplot(1, 3, 3)\n",
    "    ax.set_title(\"clean\")\n",
    "    # ax.imshow(np.log10(clean), clim=(-3,7), interpolation='none')\n",
    "    ax.imshow(np.log10(clean), interpolation='none')\n",
    "\n",
    "    plt.subplots_adjust(left=0.12, bottom=0.12, right=0.9, top=0.88, wspace=0.2, hspace=0.2)\n",
    "    #plt.subplot_tool()\n",
    "    plt.show()"
   ]
  },
  {
   "cell_type": "markdown",
   "metadata": {},
   "source": [
    "### homo"
   ]
  },
  {
   "cell_type": "code",
   "execution_count": 3,
   "metadata": {},
   "outputs": [],
   "source": [
    "def compute_snr(matfile):\n",
    "    dat_px = spio.loadmat(matfile, squeeze_me=True)\n",
    "    dat_px = dat_px['data']\n",
    "\n",
    "    # each data array is 4D tensor (x , y, z, samples)\n",
    "    samples = dat_px.shape[-1]\n",
    "    \n",
    "    snr_array = np.zeros((samples, 100), dtype=np.float32)\n",
    "    \n",
    "    for i in xrange(samples):\n",
    "        img50 = dat_px[:,49,:,i]  # for current example, take the 50 image along the y-axis\n",
    "        vect_mid = img50[49,:]\n",
    "        snr_array[i,:] = vect_mid\n",
    "\n",
    "    means = np.mean(snr_array, axis=0)\n",
    "    stds  = np.std(snr_array, axis=0)\n",
    "    snr_result = 20. * np.log10(means / stds)\n",
    "    \n",
    "    return snr_result"
   ]
  },
  {
   "cell_type": "code",
   "execution_count": 4,
   "metadata": {},
   "outputs": [],
   "source": [
    "snr_dir = '/space/neza/2/users/yaoshen/NEU/Research/MRI filtering/mcxlab_nightlybuild/data'"
   ]
  },
  {
   "cell_type": "code",
   "execution_count": 5,
   "metadata": {},
   "outputs": [],
   "source": [
    "#\n",
    "# read snr data set\n",
    "#\n",
    "\n",
    "p5_snr = compute_snr(snr_dir + '/journal2_50ns_vol100_homo_1e5_pack1.mat')\n",
    "p6_snr = compute_snr(snr_dir + '/journal2_50ns_vol100_homo_1e6_pack1.mat')\n",
    "p7_snr = compute_snr(snr_dir + '/journal2_50ns_vol100_homo_1e7_pack1.mat')\n",
    "p8_snr = compute_snr(snr_dir + '/journal2_50ns_vol100_homo_1e8_pack1.mat')"
   ]
  },
  {
   "cell_type": "code",
   "execution_count": 6,
   "metadata": {},
   "outputs": [],
   "source": [
    "# for i in p5_snr: print i\n",
    "# for i in p6_snr: print i\n",
    "# for i in p7_snr: print i\n",
    "# for i in p8_snr: print i"
   ]
  },
  {
   "cell_type": "markdown",
   "metadata": {},
   "source": [
    "### NN model output"
   ]
  },
  {
   "cell_type": "code",
   "execution_count": 7,
   "metadata": {},
   "outputs": [],
   "source": [
    "def compute_snr_from_array(nn_hom1e5):\n",
    "    [samples, im_w, im_h] = nn_hom1e5.shape\n",
    "    snr_array = np.zeros((samples, im_h), dtype=np.float32)\n",
    "\n",
    "    for i in xrange(samples):\n",
    "        vect_mid = nn_hom1e5[i,49,:]  # take the 50th vector of 100x100\n",
    "        snr_array[i,:] = vect_mid  # save 100\n",
    "\n",
    "    means = np.mean(snr_array, axis=0)\n",
    "    stds  = np.std(snr_array, axis=0)\n",
    "    \n",
    "#     log_array = np.log(snr_array)\n",
    "#     log_means = np.mean(log_array, axis=0)\n",
    "#     log_std   = np.std(log_array, axis=0)\n",
    "#     print \"\\n log_means\"\n",
    "#     for i in log_means: print i\n",
    "#     print \"\\nlog_std\"\n",
    "#     for i in log_std: print i\n",
    "        \n",
    "#    log10_array = np.log10(snr_array)\n",
    "#    log10_means = np.mean(log10_array, axis=0)\n",
    "#    log10_std   = np.std(log10_array, axis=0)\n",
    "#    print \"\\n log10_means\"\n",
    "#    for i in log10_means: print i\n",
    "#    print \"\\nlog10_std\"\n",
    "#    for i in log10_std: print i\n",
    "        \n",
    "        \n",
    "    snr_result = 20. * np.log10(means / stds)\n",
    "    \n",
    "    return snr_result"
   ]
  },
  {
   "cell_type": "code",
   "execution_count": 8,
   "metadata": {},
   "outputs": [
    {
     "name": "stdout",
     "output_type": "stream",
     "text": [
      "(100, 100, 100)\n"
     ]
    }
   ],
   "source": [
    "nn_hom1e5 = spio.loadmat('../test_results/snr_hom1e5_nn.mat', squeeze_me=True)\n",
    "nn_hom1e5 = nn_hom1e5['output_clean']\n",
    "print nn_hom1e5.shape\n",
    "nn_hom1e5 = convert_data2org(nn_hom1e5) # convert back to original format\n",
    "\n",
    "nn_snr = compute_snr_from_array(nn_hom1e5)"
   ]
  },
  {
   "cell_type": "code",
   "execution_count": 9,
   "metadata": {},
   "outputs": [
    {
     "name": "stdout",
     "output_type": "stream",
     "text": [
      "48.405834\n",
      "48.064404\n",
      "44.551567\n",
      "41.587303\n",
      "37.052788\n",
      "36.29995\n",
      "33.930084\n",
      "31.733318\n",
      "31.751554\n",
      "31.736515\n",
      "30.465143\n",
      "30.597794\n",
      "30.425692\n",
      "32.888588\n",
      "30.876825\n",
      "29.044065\n",
      "32.445354\n",
      "32.119846\n",
      "30.540007\n",
      "29.462158\n",
      "29.194\n",
      "28.90478\n",
      "28.425419\n",
      "28.927889\n",
      "28.732386\n",
      "28.071507\n",
      "27.696009\n",
      "27.191021\n",
      "26.137598\n",
      "25.381111\n",
      "24.420586\n",
      "24.063196\n",
      "23.707237\n",
      "23.712437\n",
      "23.232021\n",
      "22.546963\n",
      "22.047058\n",
      "20.691452\n",
      "19.959156\n",
      "19.736012\n",
      "19.538643\n",
      "19.46712\n",
      "18.553644\n",
      "17.87728\n",
      "16.893255\n",
      "16.177681\n",
      "16.993914\n",
      "16.204475\n",
      "16.521055\n",
      "15.249206\n",
      "14.1823845\n",
      "13.698427\n",
      "13.887672\n",
      "13.615969\n",
      "13.069952\n",
      "12.248465\n",
      "11.864419\n",
      "12.036045\n",
      "11.919903\n",
      "12.151592\n",
      "12.378534\n",
      "13.467817\n",
      "13.9623375\n",
      "14.634033\n",
      "14.651389\n",
      "14.637018\n",
      "15.159272\n",
      "16.577427\n",
      "16.484325\n",
      "17.686497\n",
      "17.834032\n",
      "19.362705\n",
      "18.94216\n",
      "20.543125\n",
      "21.204224\n",
      "23.199245\n",
      "23.454046\n",
      "25.889698\n",
      "26.458635\n",
      "27.462263\n",
      "27.994396\n",
      "30.57947\n",
      "30.54346\n",
      "30.112106\n",
      "30.021612\n",
      "31.913336\n",
      "33.410347\n",
      "32.52892\n",
      "34.54618\n",
      "36.938015\n",
      "39.66742\n",
      "41.38176\n",
      "45.061573\n",
      "50.50618\n",
      "50.702633\n",
      "50.56266\n",
      "52.713173\n",
      "61.78917\n",
      "62.691353\n",
      "57.662167\n"
     ]
    }
   ],
   "source": [
    "for i in nn_snr: print i"
   ]
  },
  {
   "cell_type": "markdown",
   "metadata": {},
   "source": [
    "### absorber3"
   ]
  },
  {
   "cell_type": "code",
   "execution_count": 10,
   "metadata": {},
   "outputs": [],
   "source": [
    "#\n",
    "# read snr data set\n",
    "#\n",
    "p5_snr = compute_snr(snr_dir + '/journal2_50ns_vol100_absorber3_1e5_pack1.mat')\n",
    "p6_snr = compute_snr(snr_dir + '/journal2_50ns_vol100_absorber3_1e6_pack1.mat')\n",
    "p7_snr = compute_snr(snr_dir + '/journal2_50ns_vol100_absorber3_1e7_pack1.mat')\n",
    "p8_snr = compute_snr(snr_dir + '/journal2_50ns_vol100_absorber3_1e8_pack1.mat')"
   ]
  },
  {
   "cell_type": "code",
   "execution_count": 11,
   "metadata": {},
   "outputs": [],
   "source": [
    "# for i in p5_snr: print i\n",
    "# for i in p6_snr: print i\n",
    "# for i in p7_snr: print i\n",
    "# for i in p8_snr: print i"
   ]
  },
  {
   "cell_type": "code",
   "execution_count": 12,
   "metadata": {},
   "outputs": [
    {
     "name": "stdout",
     "output_type": "stream",
     "text": [
      "(100, 100, 100)\n"
     ]
    }
   ],
   "source": [
    "#\n",
    "# neural nets\n",
    "#\n",
    "nn_result = spio.loadmat('../test_results/snr_absorb1e5_nn.mat', squeeze_me=True)\n",
    "nn_result = nn_result['output_clean']\n",
    "print nn_result.shape\n",
    "nn_result = convert_data2org(nn_result) # convert back to original format\n",
    "\n",
    "nn_snr = compute_snr_from_array(nn_result)"
   ]
  },
  {
   "cell_type": "code",
   "execution_count": 13,
   "metadata": {},
   "outputs": [
    {
     "name": "stdout",
     "output_type": "stream",
     "text": [
      "48.80397\n",
      "47.047157\n",
      "44.113426\n",
      "41.454548\n",
      "38.13023\n",
      "36.79893\n",
      "33.99837\n",
      "32.20153\n",
      "31.774721\n",
      "31.810846\n",
      "32.761047\n",
      "32.043327\n",
      "30.55193\n",
      "30.78905\n",
      "30.05233\n",
      "27.96087\n",
      "26.521482\n",
      "26.160582\n",
      "25.944643\n",
      "25.631826\n",
      "24.832092\n",
      "24.606705\n",
      "24.273422\n",
      "23.42469\n",
      "22.589527\n",
      "22.43458\n",
      "23.54316\n",
      "21.271896\n",
      "20.992893\n",
      "18.435295\n",
      "19.75262\n",
      "16.935713\n",
      "15.344\n",
      "16.38725\n",
      "15.67429\n",
      "17.428932\n",
      "18.480011\n",
      "20.625467\n",
      "21.526106\n",
      "22.215847\n",
      "23.830643\n",
      "24.301575\n",
      "24.157045\n",
      "24.63331\n",
      "25.11181\n",
      "27.263144\n",
      "29.24274\n",
      "29.022873\n",
      "31.001919\n",
      "32.97502\n",
      "34.88231\n",
      "34.18359\n",
      "37.077003\n",
      "42.142166\n",
      "43.727005\n",
      "43.78382\n",
      "46.13443\n",
      "49.11284\n",
      "51.19957\n",
      "50.724224\n",
      "53.13167\n",
      "59.78321\n",
      "61.70645\n",
      "61.65551\n",
      "63.39583\n",
      "67.121826\n",
      "68.65523\n",
      "69.08\n",
      "70.1556\n",
      "72.491394\n",
      "73.797325\n",
      "73.81018\n",
      "74.58798\n",
      "75.98598\n",
      "76.97917\n",
      "76.36468\n",
      "77.18624\n",
      "79.158165\n",
      "79.45395\n",
      "78.86705\n",
      "79.855705\n",
      "82.818306\n",
      "83.771935\n",
      "83.39825\n",
      "84.76305\n",
      "89.627266\n",
      "91.79818\n",
      "91.38986\n",
      "95.39689\n",
      "99.16345\n",
      "102.334366\n",
      "101.43054\n",
      "106.06711\n",
      "111.061615\n",
      "107.91185\n",
      "108.67309\n",
      "107.21869\n",
      "110.29362\n",
      "111.6533\n",
      "108.222336\n"
     ]
    }
   ],
   "source": [
    "for i in nn_snr: print i"
   ]
  },
  {
   "cell_type": "markdown",
   "metadata": {},
   "source": [
    "### refractive"
   ]
  },
  {
   "cell_type": "code",
   "execution_count": 14,
   "metadata": {},
   "outputs": [],
   "source": [
    "#\n",
    "# read snr data set\n",
    "#\n",
    "p5_snr = compute_snr(snr_dir + '/journal2_50ns_vol100_refractive_1e5_pack1.mat')\n",
    "p6_snr = compute_snr(snr_dir + '/journal2_50ns_vol100_refractive_1e6_pack1.mat')\n",
    "p7_snr = compute_snr(snr_dir + '/journal2_50ns_vol100_refractive_1e7_pack1.mat')\n",
    "p8_snr = compute_snr(snr_dir + '/journal2_50ns_vol100_refractive_1e8_pack1.mat')"
   ]
  },
  {
   "cell_type": "code",
   "execution_count": 15,
   "metadata": {},
   "outputs": [],
   "source": [
    "# for i in p5_snr: print i\n",
    "# for i in p6_snr: print i\n",
    "# for i in p7_snr: print i\n",
    "# for i in p8_snr: print i"
   ]
  },
  {
   "cell_type": "code",
   "execution_count": 16,
   "metadata": {},
   "outputs": [
    {
     "name": "stdout",
     "output_type": "stream",
     "text": [
      "(100, 100, 100)\n"
     ]
    }
   ],
   "source": [
    "#\n",
    "# neural nets\n",
    "#\n",
    "nn_result = spio.loadmat('../test_results/snr_refractive1e5_nn.mat', squeeze_me=True)\n",
    "nn_result = nn_result['output_clean']\n",
    "print nn_result.shape\n",
    "nn_result = convert_data2org(nn_result) # convert back to original format\n",
    "\n",
    "nn_snr = compute_snr_from_array(nn_result)"
   ]
  },
  {
   "cell_type": "code",
   "execution_count": 17,
   "metadata": {},
   "outputs": [],
   "source": [
    "# for i in nn_snr: print i"
   ]
  },
  {
   "cell_type": "markdown",
   "metadata": {},
   "source": [
    "### show image "
   ]
  },
  {
   "cell_type": "code",
   "execution_count": 18,
   "metadata": {},
   "outputs": [
    {
     "name": "stdout",
     "output_type": "stream",
     "text": [
      "(100, 100, 100)\n"
     ]
    },
    {
     "name": "stderr",
     "output_type": "stream",
     "text": [
      "/home/users/leiming/anaconda2/lib/python2.7/site-packages/ipykernel_launcher.py:25: RuntimeWarning: divide by zero encountered in log10\n",
      "/home/users/leiming/anaconda2/lib/python2.7/site-packages/ipykernel_launcher.py:30: RuntimeWarning: divide by zero encountered in log10\n"
     ]
    },
    {
     "data": {
      "image/png": "[encoded data removed]",
      "text/plain": [
       "<matplotlib.figure.Figure at 0x7fe3f17c38d0>"
      ]
     },
     "metadata": {},
     "output_type": "display_data"
    }
   ],
   "source": [
    "# =====================\n",
    "#  homo\n",
    "# =====================\n",
    "noisy_mat = spio.loadmat(snr_dir + '/journal2_50ns_vol100_homo_1e5_pack1.mat', squeeze_me=True)\n",
    "noisy_mat = noisy_mat['data']\n",
    "noisy_img = noisy_mat[:,49,:,0]  # 100x100\n",
    "\n",
    "\n",
    "clean_mat = spio.loadmat(snr_dir + '/journal2_50ns_vol100_homo_1e8_pack1.mat', squeeze_me=True)\n",
    "clean_mat = clean_mat['data']\n",
    "clean_img = clean_mat[:,49,:,0]  # 100x100\n",
    "\n",
    "\n",
    "nn_hom1e5 = spio.loadmat('../test_results/snr_hom1e5_nn.mat', squeeze_me=True)\n",
    "nn_hom1e5 = nn_hom1e5['output_clean']\n",
    "print nn_hom1e5.shape\n",
    "nn_img = convert_data2org(nn_hom1e5) # convert back to original format\n",
    "nn_img = nn_img[0,...]\n",
    "\n",
    "plot_results(noisy_img, nn_img, clean_img)"
   ]
  }
 ],
 "metadata": {
  "kernelspec": {
   "display_name": "Python 2",
   "language": "python",
   "name": "python2"
  },
  "language_info": {
   "codemirror_mode": {
    "name": "ipython",
    "version": 2
   },
   "file_extension": ".py",
   "mimetype": "text/x-python",
   "name": "python",
   "nbconvert_exporter": "python",
   "pygments_lexer": "ipython2",
   "version": "2.7.14"
  }
 },
 "nbformat": 4,
 "nbformat_minor": 2
}
