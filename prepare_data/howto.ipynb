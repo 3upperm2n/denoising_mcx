{
 "cells": [
  {
   "cell_type": "markdown",
   "metadata": {},
   "source": [
    "### Generate Datasets"
   ]
  },
  {
   "cell_type": "markdown",
   "metadata": {},
   "source": [
    "download mcx, from https://github.com/fangq/mcx.git\n",
    "\n",
    "go to src dir and run $make\n",
    "\n",
    "Download nightly version of mcxlab (http://mcx.space/nightly/), overwriting the default one.\n",
    "\n",
    "Go to mcxlab folder, open matlab.\n",
    "\n",
    "Run the following scripts to generate image (in mat format) in mcxlab folder.\n",
    "\n",
    "* genImage_osa_1e5_to_1e9.m\n",
    "\n",
    "Example Link:\n",
    "* https://github.com/3upperm2n/denoising_mcx/blob/master/prepare_data/osa_1e5_to_1e9.m"
   ]
  }
 ],
 "metadata": {
  "kernelspec": {
   "display_name": "Python 2",
   "language": "python",
   "name": "python2"
  },
  "language_info": {
   "codemirror_mode": {
    "name": "ipython",
    "version": 2
   },
   "file_extension": ".py",
   "mimetype": "text/x-python",
   "name": "python",
   "nbconvert_exporter": "python",
   "pygments_lexer": "ipython2",
   "version": "2.7.14"
  }
 },
 "nbformat": 4,
 "nbformat_minor": 2
}
